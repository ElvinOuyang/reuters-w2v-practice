{
 "cells": [
  {
   "cell_type": "markdown",
   "metadata": {},
   "source": [
    "## Using `re` package for regular expressions"
   ]
  },
  {
   "cell_type": "code",
   "execution_count": 2,
   "metadata": {},
   "outputs": [],
   "source": [
    "import re\n",
    "from nltk.tokenize import sent_tokenize\n",
    "scene_one = \"\"\"\n",
    "SCENE 1: [wind] [clop clop clop] \\nKING ARTHUR: Whoa there!  [clop clop clop] \\nSOLDIER #1: Halt!  Who goes there?\\nARTHUR: It is I, Arthur, son of Uther Pendragon, from the castle of Camelot.  King of the Britons, defeator of the Saxons, sovereign of all England!\\nSOLDIER #1: Pull the other one!\\nARTHUR: I am, ...  and this is my trusty servant Patsy.  We have ridden the length and breadth of the land in search of knights who will join me in my court at Camelot.  I must speak with your lord and master.\\nSOLDIER #1: What?  Ridden on a horse?\\nARTHUR: Yes!\\nSOLDIER #1: You're using coconuts!\\nARTHUR: What?\\nSOLDIER #1: You've got two empty halves of coconut and you're bangin' 'em together.\\nARTHUR: So?  We have ridden since the snows of winter covered this land, through the kingdom of Mercea, through--\\nSOLDIER #1: Where'd you get the coconuts?\\nARTHUR: We found them.\\nSOLDIER #1: Found them?  In Mercea?  The coconut's tropical!\\nARTHUR: What do you mean?\\nSOLDIER #1: Well, this is a temperate zone.\\nARTHUR: The swallow may fly south with the sun or the house martin or the plover may seek warmer climes in winter, yet these are not strangers to our land?\\nSOLDIER #1: Are you suggesting coconuts migrate?\\nARTHUR: Not at all.  They could be carried.\\nSOLDIER #1: What?  A swallow carrying a coconut?\\nARTHUR: It could grip it by the husk!\\nSOLDIER #1: It's not a question of where he grips it!  It's a simple question of weight ratios!  A five ounce bird could not carry a one pound coconut.\\nARTHUR: Well, it doesn't matter.  Will you go and tell your master that Arthur from the Court of Camelot is here.\\nSOLDIER #1: Listen.  In order to maintain air-speed velocity, a swallow needs to beat its wings forty-three times every second, right?\\nARTHUR: Please!\\nSOLDIER #1: Am I right?\\nARTHUR: I'm not interested!\\nSOLDIER #2: It could be carried by an African swallow!\\nSOLDIER #1: Oh, yeah, an African swallow maybe, but not a European swallow.  That's my point.\\nSOLDIER #2: Oh, yeah, I agree with that.\\nARTHUR: Will you ask your master if he wants to join my court at Camelot?!\\nSOLDIER #1: But then of course a-- African swallows are non-migratory.\\nSOLDIER #2: Oh, yeah...\\nSOLDIER #1: So they couldn't bring a coconut back anyway...  [clop clop clop] \\nSOLDIER #2: Wait a minute!  Supposing two swallows carried it together?\\nSOLDIER #1: No, they'd have to have it on a line.\\nSOLDIER #2: Well, simple!  They'd just use a strand of creeper!\\nSOLDIER #1: What, held under the dorsal guiding feathers?\\nSOLDIER #2: Well, why not?\\n\n",
    "\"\"\"\n",
    "sentences = sent_tokenize(scene_one)"
   ]
  },
  {
   "cell_type": "markdown",
   "metadata": {},
   "source": [
    "The basic regex matching is `re.match(pattern, string)` to identify target patterns."
   ]
  },
  {
   "cell_type": "markdown",
   "metadata": {},
   "source": [
    "### List of commonly-used regex patterns:\n",
    "\n",
    "pattern | matches | example\n",
    "--------|---------|----------\n",
    "\\w+ | word | 'Magic'\n",
    "\\d | digit | 9\n",
    "\\s | space | ' '\n",
    "\".\" | wildcard, any combination of repetition for 0 or more times | 'username74'\n",
    "&#124; | boolean logic \"OR\" |\n",
    "\"+\" or \"*\" | greedy match for pattern; + with at least 1 occurance and * with optional occurance | 'aaaaaaaaaa'\n",
    "(capitalized as negation) \\S | *not* space | 'no_spaces'\n",
    "(square bracket as group)[a-z] | lowercase group | 'abcdefg'\n",
    "[A-Za-z]+ | upper and lower case English alphabet string | 'ABCDEFghijk'\n",
    "[0-9] | numbers from 0 to 9 | 9\n",
    "[A-Za-z\\-\\.]+ | upper and lower case English alphabet, - and . | 'My-Website.com'\n",
    "(a-Z) | a, - and Z | 'a-Z'\n",
    "(\\s+&#124;,) |spaces or a comma | ', '\n",
    "\n",
    "`[]` usually works with character ranges and needs `\\` to escape, while `()` works with characters specified explicitly in the brackets.\n",
    "\n",
    "**For instance, adding \"+\" after the special character will match the entire pattern**:"
   ]
  },
  {
   "cell_type": "code",
   "execution_count": 3,
   "metadata": {},
   "outputs": [
    {
     "name": "stdout",
     "output_type": "stream",
     "text": [
      "Using \\w returns ['L', 'e', 't', 's', 'w', 'r', 'i', 't', 'e', 'R', 'e', 'g', 'E', 'x']\n",
      "Using \\w+ returns ['Let', 's', 'write', 'RegEx']\n"
     ]
    }
   ],
   "source": [
    "my_string = \"Let's write RegEx!\"\n",
    "PATTERN = '\\w'\n",
    "print(f\"Using {PATTERN} returns {re.findall(PATTERN, my_string)}\")\n",
    "PATTERN = '\\w+'\n",
    "print(f\"Using {PATTERN} returns {re.findall(PATTERN, my_string)}\")"
   ]
  },
  {
   "cell_type": "markdown",
   "metadata": {},
   "source": [
    "\n",
    "----------------------\n",
    "\n",
    "On a side note, it's important to use a `r` prefix before an string if one doesn't want Python to interpret backslash as part of special characters. For instance, `\"This is a code. \\n\"` will be interpreted as *\"This is a code\"* with a line break; whereas `r\"This is a code. \\n\"` will be interpret as is *\"This is a code. \\n\"*.\n",
    "\n",
    "**Hence when creating regex pattern, it is recommended that strings come after the `r` prefix.**\n",
    "\n",
    "-----------------------\n"
   ]
  },
  {
   "cell_type": "markdown",
   "metadata": {},
   "source": [
    "### Using `re.split()` and `re.findall()`, with some common regex:"
   ]
  },
  {
   "cell_type": "code",
   "execution_count": 4,
   "metadata": {},
   "outputs": [
    {
     "name": "stdout",
     "output_type": "stream",
     "text": [
      "[\"Let's write RegEx\", \"  Won't that be fun\", '  I sure think so', '  Can you find 4 sentences', '  Or perhaps, all 19 words', '']\n"
     ]
    }
   ],
   "source": [
    "my_string = \"\"\"Let's write RegEx!  Won't that be fun?  I sure think so.  Can you find 4 sentences?  Or perhaps, all 19 words?\"\"\"\n",
    "\n",
    "# Write a pattern to match sentence endings: sentence_endings\n",
    "sentence_endings = r\"[.!?]\"\n",
    "\n",
    "# Split my_string on sentence endings and print the result\n",
    "print(re.split(sentence_endings, my_string))"
   ]
  },
  {
   "cell_type": "code",
   "execution_count": 5,
   "metadata": {},
   "outputs": [
    {
     "name": "stdout",
     "output_type": "stream",
     "text": [
      "['Let', 'RegEx', 'Won', 'Can', 'Or']\n"
     ]
    }
   ],
   "source": [
    "# Find all capitalized words in my_string and print the result\n",
    "capitalized_words = r\"[A-Z]\\w+\"\n",
    "print(re.findall(capitalized_words, my_string))"
   ]
  },
  {
   "cell_type": "code",
   "execution_count": 6,
   "metadata": {},
   "outputs": [
    {
     "name": "stdout",
     "output_type": "stream",
     "text": [
      "[\"Let's\", 'write', 'RegEx!', \"Won't\", 'that', 'be', 'fun?', 'I', 'sure', 'think', 'so.', 'Can', 'you', 'find', '4', 'sentences?', 'Or', 'perhaps,', 'all', '19', 'words?']\n"
     ]
    }
   ],
   "source": [
    "# Split my_string on spaces and print the result\n",
    "spaces = r\"\\s+\"\n",
    "print(re.split(spaces, my_string))"
   ]
  },
  {
   "cell_type": "code",
   "execution_count": 7,
   "metadata": {},
   "outputs": [
    {
     "name": "stdout",
     "output_type": "stream",
     "text": [
      "['4', '19']\n"
     ]
    }
   ],
   "source": [
    "# Find all digits in my_string and print the result\n",
    "digits = r\"\\d+\"\n",
    "print(re.findall(digits, my_string))"
   ]
  },
  {
   "cell_type": "markdown",
   "metadata": {},
   "source": [
    "### Differences between `re.search()` and `re.match()`:\n",
    "`re.search()` will find the pattern at any chunk of the string, while `re.match()` only only start from the beginning of the string. Therefore matching is more strict than searching."
   ]
  },
  {
   "cell_type": "code",
   "execution_count": 8,
   "metadata": {
    "scrolled": true
   },
   "outputs": [
    {
     "name": "stdout",
     "output_type": "stream",
     "text": [
      "<_sre.SRE_Match object; span=(0, 3), match='abc'>\n",
      "<_sre.SRE_Match object; span=(0, 3), match='abc'>\n",
      "None\n",
      "<_sre.SRE_Match object; span=(1, 3), match='bc'>\n"
     ]
    }
   ],
   "source": [
    "# Both will have same result if pattern matches beginninng of the string\n",
    "print(re.match('abc','abcde'))\n",
    "print(re.search('abc','abcde'))\n",
    "\n",
    "# Only search will return result when only chunk of the string matches\n",
    "print(re.match('bc','abcde'))\n",
    "print(re.search('bc','abcde'))"
   ]
  },
  {
   "cell_type": "markdown",
   "metadata": {},
   "source": [
    "Each `re.match()` or `re.search()` object has a `.start()` and a `.end()` method that will return the starting and ending index of the matched pattern within the target string.\n",
    "\n",
    "**Below are some further examples of regex matching:**"
   ]
  },
  {
   "cell_type": "code",
   "execution_count": 9,
   "metadata": {},
   "outputs": [
    {
     "name": "stdout",
     "output_type": "stream",
     "text": [
      "The first 'coconuts' starts at [581] and ends at [589]\n",
      "<_sre.SRE_Match object; span=(0, 7), match='ARTHUR:'>\n"
     ]
    }
   ],
   "source": [
    "# Search for the first occurrence of \"coconuts\" in scene_one: match\n",
    "match = re.search('coconuts', scene_one)\n",
    "\n",
    "# Print the start and end indexes of match\n",
    "print(f\"The first 'coconuts' starts at [{match.start()}] and ends at [{match.end()}]\")\n",
    "\n",
    "# Regex for anything in square brackets: pattern1\n",
    "pattern1 = r\"\\[.*\\]\"\n",
    "\n",
    "# Use re.search to find the first text in square brackets\n",
    "re.search(pattern1, scene_one)\n",
    "\n",
    "# Find the script notation at the beginning of the fourth sentence and print it\n",
    "pattern2 = r\"[\\w\\s]+:\"\n",
    "print(re.match(pattern2, sentences[3]))\n"
   ]
  },
  {
   "cell_type": "markdown",
   "metadata": {},
   "source": [
    "## Use `nltk` library for tokenize strings\n",
    "\n",
    "Tokenization can help to:\n",
    "\n",
    "* Map part of the speech\n",
    "* Match common words\n",
    "* Remove unwanted tokens\n",
    "\n",
    "The nltk library have three common tokenizers:\n",
    "\n",
    "tokenizer | function\n",
    "-----------|----------\n",
    "`sent_tokenize` | tokenize a document into list of sentences\n",
    "`word_tokenize` | tokenize a string into list of words\n",
    "`regexp_tokenize` | tokenize string / document based on regex\n",
    "`TweetTokenizer` | special class just for tweet tokenization that can separate hashtags, mentions, and other special cases for tweets"
   ]
  },
  {
   "cell_type": "code",
   "execution_count": 10,
   "metadata": {
    "collapsed": true
   },
   "outputs": [],
   "source": [
    "# Import tokenizers from nltk.tokenize\n",
    "from nltk.tokenize import sent_tokenize\n",
    "from nltk.tokenize import word_tokenize\n"
   ]
  },
  {
   "cell_type": "markdown",
   "metadata": {},
   "source": [
    "-------------------\n",
    "\n",
    "It is a common practice to create a \"dictionary\" with unique values (word elements) from a corpora. Using `set()` objects on a tokenized list of words will create an unordered list of **unique** words from the corpora, making it handy for further processing.\n",
    "\n",
    "**Note:** `set()` objects are basically dictionaires without keys.\n",
    "\n",
    "-------------------"
   ]
  },
  {
   "cell_type": "markdown",
   "metadata": {},
   "source": [
    "### Using `sent_tokenize` and `word_tokenize` to tokenize corpora\n",
    "\n",
    "`sent_tokenize` and `word_tokenize` are used to generate list of sentences and words, individually.\n",
    "\n",
    "Below are some sample codes:"
   ]
  },
  {
   "cell_type": "code",
   "execution_count": 11,
   "metadata": {},
   "outputs": [
    {
     "name": "stdout",
     "output_type": "stream",
     "text": [
      "The resulted list has: 54 sentences.\n"
     ]
    }
   ],
   "source": [
    "# Split scene_one into sentences: sentences\n",
    "sentences = sent_tokenize(scene_one)\n",
    "print(f\"The resulted list has: {len(sentences)} sentences.\")"
   ]
  },
  {
   "cell_type": "code",
   "execution_count": 12,
   "metadata": {},
   "outputs": [
    {
     "name": "stdout",
     "output_type": "stream",
     "text": [
      "The target sentence has 9 words.\n"
     ]
    }
   ],
   "source": [
    "# Use word_tokenize to tokenize the last sentence: tokenized_sent\n",
    "tokenized_sent = word_tokenize(sentences[-1])\n",
    "print(f\"The target sentence has {len(tokenized_sent)} words.\")"
   ]
  },
  {
   "cell_type": "code",
   "execution_count": 13,
   "metadata": {},
   "outputs": [
    {
     "name": "stdout",
     "output_type": "stream",
     "text": [
      "The corpora has a total of 226 unique words.\n"
     ]
    }
   ],
   "source": [
    "# Create a unique set of words from the corpora\n",
    "unique_tokens = set(word_tokenize(scene_one))\n",
    "print(f\"The corpora has a total of {len(unique_tokens)} unique words.\")"
   ]
  },
  {
   "cell_type": "markdown",
   "metadata": {},
   "source": [
    "### Using `regex_tokenize` to tokenize words that matche the RE\n",
    "\n",
    "Be noted that `regex_tokenize()` takes the text argument first, and then the RE. This is a reverse order of other `re` and `nltk` packages."
   ]
  },
  {
   "cell_type": "code",
   "execution_count": 14,
   "metadata": {},
   "outputs": [
    {
     "data": {
      "text/plain": [
       "[['#nlp', '#python'], ['#NLP', '#learning'], ['#nlp', '#python']]"
      ]
     },
     "execution_count": 14,
     "metadata": {},
     "output_type": "execute_result"
    }
   ],
   "source": [
    "tweets = [\n",
    " 'This is the best #nlp exercise ive found online! #python',\n",
    " '#NLP is super fun! <3 #learning',\n",
    " 'Thanks @datacamp :) #nlp #python'   \n",
    "]\n",
    "\n",
    "# Import the necessary modules\n",
    "from nltk.tokenize import regexp_tokenize\n",
    "\n",
    "# Define a regex pattern to find hashtags: pattern1\n",
    "pattern1 = r\"#\\w+\"\n",
    "\n",
    "# Use the pattern on the first tweet in the tweets list\n",
    "[regexp_tokenize(tweet, pattern1) for tweet in tweets]"
   ]
  },
  {
   "cell_type": "code",
   "execution_count": 15,
   "metadata": {},
   "outputs": [
    {
     "data": {
      "text/plain": [
       "[['#nlp', '#python'], ['#NLP', '#learning'], ['@datacamp', '#nlp', '#python']]"
      ]
     },
     "execution_count": 15,
     "metadata": {},
     "output_type": "execute_result"
    }
   ],
   "source": [
    "# Write a pattern that matches both mentions and hashtags\n",
    "pattern2 = r\"([#@]\\w+)\"\n",
    "\n",
    "# Use the pattern on the last tweet in the tweets list\n",
    "[regexp_tokenize(tweet, pattern2) for tweet in tweets]"
   ]
  },
  {
   "cell_type": "markdown",
   "metadata": {},
   "source": [
    "### Using `TweetTokenizer` objects to easily parse tweets\n",
    "Similar to any other class, one needs to initiate the tokenizer before applying it on target objects, as shown below:"
   ]
  },
  {
   "cell_type": "code",
   "execution_count": 16,
   "metadata": {},
   "outputs": [
    {
     "name": "stdout",
     "output_type": "stream",
     "text": [
      "[['This', 'is', 'the', 'best', '#nlp', 'exercise', 'ive', 'found', 'online', '!', '#python'], ['#NLP', 'is', 'super', 'fun', '!', '<3', '#learning'], ['Thanks', '@datacamp', ':)', '#nlp', '#python']]\n"
     ]
    }
   ],
   "source": [
    "from nltk.tokenize import TweetTokenizer\n",
    "# initiate a TweetTokenizer object\n",
    "tknz = TweetTokenizer()\n",
    "# apply the .tokenize() method on target strings\n",
    "print([tknz.tokenize(tweet) for tweet in tweets])"
   ]
  }
 ],
 "metadata": {
  "kernelspec": {
   "display_name": "Python 3",
   "language": "python",
   "name": "python3"
  },
  "language_info": {
   "codemirror_mode": {
    "name": "ipython",
    "version": 3
   },
   "file_extension": ".py",
   "mimetype": "text/x-python",
   "name": "python",
   "nbconvert_exporter": "python",
   "pygments_lexer": "ipython3",
   "version": "3.6.1"
  }
 },
 "nbformat": 4,
 "nbformat_minor": 2
}
